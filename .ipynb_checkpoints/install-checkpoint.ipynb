{
 "cells": [
  {
   "cell_type": "markdown",
   "metadata": {},
   "source": [
    "# Julia v1.1.0 の Windows 8.1 へのインストール\n",
    "\n",
    "* Author: 黒木 玄\n",
    "* Date: 2019-03-18\n",
    "\n",
    "[Julia](https://julialang.org/)+[Jupyter](https://jupyter.org/)を最も楽に使う方法は\n",
    "\n",
    "* [JuliaBox](https://juliabox.com/)\n",
    "\n",
    "を使うことである. ブラウザを使える環境ならどこでも使える. しかし, 自分のパソコン内でJulia+Jupyterの環境が構築されていると非常に便利である. このノートでは私が Windows 8.1 に Julia+Jupyter を入れたときの操作の仕方を解説する."
   ]
  },
  {
   "cell_type": "markdown",
   "metadata": {
    "toc": true
   },
   "source": [
    "<h1>目次<span class=\"tocSkip\"></span></h1>\n",
    "<div class=\"toc\"><ul class=\"toc-item\"><li><span><a href=\"#Julia+Jupyterの環境整備\" data-toc-modified-id=\"Julia+Jupyterの環境整備-1\"><span class=\"toc-item-num\">1&nbsp;&nbsp;</span>Julia+Jupyterの環境整備</a></span></li><li><span><a href=\"#Nbextensions-の-Gist-it-の設定\" data-toc-modified-id=\"Nbextensions-の-Gist-it-の設定-2\"><span class=\"toc-item-num\">2&nbsp;&nbsp;</span>Nbextensions の Gist-it の設定</a></span></li><li><span><a href=\"#PyCall,-PyPlot,-SymPyをインストール\" data-toc-modified-id=\"PyCall,-PyPlot,-SymPyをインストール-3\"><span class=\"toc-item-num\">3&nbsp;&nbsp;</span>PyCall, PyPlot, SymPyをインストール</a></span></li><li><span><a href=\"#自分が使いたいパッケージを自由に入れる\" data-toc-modified-id=\"自分が使いたいパッケージを自由に入れる-4\"><span class=\"toc-item-num\">4&nbsp;&nbsp;</span>自分が使いたいパッケージを自由に入れる</a></span></li></ul></div>"
   ]
  },
  {
   "cell_type": "markdown",
   "metadata": {},
   "source": [
    "## Julia+Jupyterの環境整備\n",
    "\n",
    "Windows 8.1 にJuliaとJupyterを入れる. 使用するブラウザはChromeである.\n",
    "\n",
    "\n",
    "(1) [Julia Downloads](https://julialang.org/downloads/) から Windows Self-Extracting Archive 64 bit をダウンロードしてインストール. インストール先は C:\\Julia-1.1.0\n",
    "\n",
    "\n",
    "(2) julia.exe を起動.\n",
    "\n",
    "```julia\n",
    "julia>\n",
    "```\n",
    "\n",
    "というプロンプトが出る. パッケージモードに移動するには `]` を押す. プロンプトは\n",
    "\n",
    "```Julia\n",
    "(v1.1) pkg>\n",
    "```\n",
    "\n",
    "に変わる. 以下 `pkg>` と略記する. パッケージモードからもとに戻るには行頭でバックスペースを押す.\n",
    "\n",
    "\n",
    "(3) [IJulia.jl](https://github.com/JuliaLang/IJulia.jl)のインストール\n",
    "\n",
    "```julia\n",
    "julia> ENV[\"JUPYTER\"] = \"\"\n",
    "pkg> add IJulia\n",
    "pkg> build IJulia\n",
    "julia> using IJulia\n",
    "julia> notebook(detached=true)\n",
    "install Jupyter via Conda, y/n? [y]: y\n",
    "```\n",
    "\n",
    "<p><img src=\"images/jupyter1.png\" width=\"500\" /></p>\n",
    "\n",
    "Chromeにlocalhost:8888/treeの空白のタブが開くというトラブル発生.\n",
    "\n",
    "<p><img src=\"images/jupyter2.png\" width=\"500\" />\n",
    "<img src=\"images/jupyter3.png\" width=\"500\" /></p>\n",
    "\n",
    "\n",
    "(4) [Conda.jl](https://github.com/JuliaPy/Conda.jl)でnotebookをバージョンダウンする.\n",
    "\n",
    "```julia\n",
    "pkg> add Conda\n",
    "julia> using Conda\n",
    "julia> Conda.add(\"notebook=5.6.0\")\n",
    "```\n",
    "\n",
    "<p><img src=\"images/jupyter4.png\" width=\"500\" />\n",
    "<img src=\"images/jupyter5.png\" width=\"500\" /></p>\n",
    "\n",
    "これでJupyter notebookが普通に使えるようになった.\n",
    "\n",
    "\n",
    "(5) 続けて, [Nbextensions](https://github.com/ipython-contrib/jupyter_contrib_nbextensions)と[RISE](https://github.com/damianavila/RISE)をインストール.\n",
    "\n",
    "```julia\n",
    "julia> Conda.add_channel(\"conda-forge\")\n",
    "julia> Conda.add(\"jupyter_contrib_nbextensions\")\n",
    "Conda.add(\"rise\")\n",
    "```\n",
    "\n",
    "以上で Jupyter notebook + Nbextensions + RISE を使える環境が完成.\n",
    "\n",
    "<p><img src=\"images/jupyter6.png\" width=\"500\" />\n",
    "<img src=\"images/jupyter7.png\" width=\"500\" />\n",
    "<img src=\"images/jupyter8.png\" width=\"500\" /></p>\n",
    "\n",
    "確認は julia.exe を立ち上げ直して, \n",
    "\n",
    "```julia\n",
    "julia> using IJulia\n",
    "julia> notebook(detached=true)\n",
    "```\n",
    "\n",
    "を実行する.\n",
    "\n",
    "\n",
    "(6) 次の内容の[バッチファイル](https://gist.github.com/genkuroki/c003cf520df464abbc0cd5876fa99706)を作成.\n",
    "\n",
    "\n",
    "```\n",
    "C:\\Users\\genkuroki\\.julia\\conda\\3\\python.exe C:\\Anaconda3\\cwp.py C:\\Users\\genkuroki\\.julia\\conda\\3 \"C:/Users/genkuroki/.julia/conda/3/python.exe\" \"C:/Users/genkuroki/.julia/conda/3/Scripts/jupyter-notebook-script.py\" \"C:\\Users\\genkuroki\\OneDrive\"\n",
    "pause\n",
    "```\n",
    "\n",
    "このバッチファイルを実行すると, ChromeにJupyter notebookのタブが開く."
   ]
  },
  {
   "cell_type": "markdown",
   "metadata": {},
   "source": [
    "## Nbextensions の Gist-it の設定\n",
    "\n",
    "(1) [GitHub](https://github.com/) のアカウントを取得する.\n",
    "\n",
    "\n",
    "(2) [GitHub「Personal access tokens」の設定方法](https://qiita.com/kz800/items/497ec70bff3e555dacd0)を読んで, GitHub のパーソナルアクセストークンを取得する.\n",
    "\n",
    "\n",
    "(3) JupyterのNbextensionsタブを見て, Gist-itにチェックを入れる.\n",
    "\n",
    "<p><img src=\"images/jupyter-gist-1.png\" width=500></p>\n",
    "\n",
    "\n",
    "(4) \"Github personal access token\" に上で取得したｔ－君を貼り付け, \"Gists default to public\" にチェックを入れる.\n",
    "\n",
    "<p><img src=\"images/jupyter-gist-2.png\" width=500></p>\n",
    "\n",
    "\n",
    "(5) これで各ノートブックの \"Create/Edit Gist of notebook\" のボタンを使用可能になる. そのボタンを押すことによって [GitHub Gist](https://gist.github.com/) でノートブックを公開し, 簡単なバージョン管理もできるようになる.\n",
    "\n",
    "<p><img src=\"images/jupyter-gist-3.png\" width=500></p>\n",
    "\n",
    "\n",
    "(6) インターネット上で公開されたJupyterノートブックのURLを [nbviewer](https://nbviewer.jupyter.org/) に貼り付けることによって, GitHubのサイトよりもきれいに成形されたノートブックを閲覧できるようになる. (キャッシュが生成されるが、そのキャッシュを無視したい場合には最後に `?flushcache=true` を付ける.\n",
    "\n",
    "\n",
    "以上の手続きによって, 非除に気軽に Jupyter 上で書いたノートブックを公開できるようになる."
   ]
  },
  {
   "cell_type": "markdown",
   "metadata": {},
   "source": [
    "## PyCall, PyPlot, SymPyをインストール\n",
    "\n",
    "**[PyCall.jl](https://github.com/JuliaPy/PyCall.jl)**\n",
    "\n",
    "```julia\n",
    "julia> ENV[\"PYTHON\"] = \"\"\n",
    "pkg> add PyCall\n",
    "pkg> build PyCall\n",
    "julia> using PyCall\n",
    "julia> PyCall.python\n",
    "\"C:\\\\Users\\\\genkuroki\\\\.julia\\\\conda\\\\3\\\\python.exe\"\n",
    "```\n",
    "\n",
    "**[PyPlot.jl](https://github.com/JuliaPy/PyPlot.jl)**\n",
    "\n",
    "```julia\n",
    "pkg> add PyPlot\n",
    "julia> using PyPlot\n",
    "```\n",
    "\n",
    "自動的にCondaによってmatplotlib関連のPythonライブラリがインストールされる.\n",
    "\n",
    "**[SymPy.jl](https://github.com/JuliaPy/SymPy.jl)**\n",
    "\n",
    "```julia\n",
    "pkg> add SymPy\n",
    "julia> using SymPy\n",
    "```\n",
    "\n",
    "自動的にCondaによってsympy関連がインストールされる."
   ]
  },
  {
   "cell_type": "markdown",
   "metadata": {},
   "source": [
    "## 自分が使いたいパッケージを自由に入れる\n",
    "\n",
    "**追加**\n",
    "\n",
    "```julia\n",
    "pkg> add DifferentialEquations\n",
    "```\n",
    "\n",
    "**削除**\n",
    "\n",
    "```julia\n",
    "pkg> rm Distributions\n",
    "```\n",
    "\n",
    "**インストールしたもののリスト**\n",
    "\n",
    "```julia\n",
    "pkg> st\n",
    "```\n",
    "\n",
    "**プレコンパイル**\n",
    "\n",
    "```julia\n",
    "pkg> precompile\n",
    "```\n",
    "\n",
    "**アップデート**\n",
    "\n",
    "```julia\n",
    "pkg> up\n",
    "```\n",
    "\n",
    "**ヘルプ**\n",
    "\n",
    "```julia\n",
    "pkg> help\n",
    "```"
   ]
  },
  {
   "cell_type": "code",
   "execution_count": 1,
   "metadata": {},
   "outputs": [
    {
     "name": "stdout",
     "output_type": "stream",
     "text": [
      "  5.270291 seconds (9.95 M allocations: 497.011 MiB, 3.81% gc time)\n"
     ]
    }
   ],
   "source": [
    "@time using PyPlot: PyPlot, plt"
   ]
  },
  {
   "cell_type": "markdown",
   "metadata": {},
   "source": [
    "Code セルにおいて π は `\\pi` の後にタブを押すと入力される. "
   ]
  },
  {
   "cell_type": "code",
   "execution_count": 2,
   "metadata": {},
   "outputs": [
    {
     "data": {
      "image/png": "[encoded data removed]",
      "text/plain": [
       "PyPlot.Figure(PyObject <Figure size 640x480 with 1 Axes>)"
      ]
     },
     "metadata": {},
     "output_type": "display_data"
    },
    {
     "name": "stdout",
     "output_type": "stream",
     "text": [
      "  0.797806 seconds (1.74 M allocations: 87.550 MiB, 3.13% gc time)\n"
     ]
    }
   ],
   "source": [
    "x = range(-3π, 3π, length=400)\n",
    "@time plt.plot(x, sin.(x))\n",
    "plt.grid(ls=\":\")"
   ]
  },
  {
   "cell_type": "code",
   "execution_count": 3,
   "metadata": {},
   "outputs": [
    {
     "name": "stdout",
     "output_type": "stream",
     "text": [
      "  3.743972 seconds (5.36 M allocations: 257.116 MiB, 4.02% gc time)\n"
     ]
    }
   ],
   "source": [
    "@time using SymPy: SymPy, sympy, @vars, PI, oo"
   ]
  },
  {
   "cell_type": "code",
   "execution_count": 4,
   "metadata": {},
   "outputs": [
    {
     "data": {
      "text/html": [
       "$$\\int_{0}^{\\infty} e^{- \\frac{x^{r}}{a}}\\, dx=a^{\\frac{1}{r}} \\Gamma\\left(1 + \\frac{1}{r}\\right)$$"
      ]
     },
     "metadata": {},
     "output_type": "display_data"
    }
   ],
   "source": [
    "@vars x\n",
    "@vars a r positive=true\n",
    "I = sympy.Integral(exp(-x^r/a), (x, 0, oo))\n",
    "display(\"text/html\", raw\"$$\" * \n",
    "    sympy.latex(I) * \"=\" * sympy.latex(I.doit().simplify())\n",
    "    * raw\"$$\")"
   ]
  },
  {
   "cell_type": "markdown",
   "metadata": {},
   "source": [
    "次のセルのように先頭が `]` のCodeセルはパッケージモードのコマンドが実行される."
   ]
  },
  {
   "cell_type": "code",
   "execution_count": 5,
   "metadata": {},
   "outputs": [
    {
     "name": "stdout",
     "output_type": "stream",
     "text": [
      "\u001b[32m\u001b[1m  Updating\u001b[22m\u001b[39m registry at `C:\\Users\\genkuroki\\.julia\\registries\\General`\n",
      "\u001b[32m\u001b[1m  Updating\u001b[22m\u001b[39m git-repo `https://github.com/JuliaRegistries/General.git`\n",
      "\u001b[?25l\u001b[2K\u001b[?25h\u001b[32m\u001b[1m Resolving\u001b[22m\u001b[39m package versions...\n",
      "\u001b[32m\u001b[1m  Updating\u001b[22m\u001b[39m `C:\\Users\\genkuroki\\.julia\\environments\\v1.1\\Project.toml`\n",
      "\u001b[90m [no changes]\u001b[39m\n",
      "\u001b[32m\u001b[1m  Updating\u001b[22m\u001b[39m `C:\\Users\\genkuroki\\.julia\\environments\\v1.1\\Manifest.toml`\n",
      "\u001b[90m [no changes]\u001b[39m\n"
     ]
    }
   ],
   "source": [
    "]add Plots"
   ]
  },
  {
   "cell_type": "code",
   "execution_count": 6,
   "metadata": {},
   "outputs": [
    {
     "name": "stdout",
     "output_type": "stream",
     "text": [
      "  9.259150 seconds (18.47 M allocations: 944.592 MiB, 4.87% gc time)\n"
     ]
    },
    {
     "name": "stderr",
     "output_type": "stream",
     "text": [
      "┌ Warning: `getindex(o::PyObject, s::AbstractString)` is deprecated in favor of dot overloading (`getproperty`) so elements should now be accessed as e.g. `o.\"s\"` instead of `o[\"s\"]`.\n",
      "│   caller = top-level scope at none:0\n",
      "└ @ Core none:0\n"
     ]
    },
    {
     "data": {
      "text/plain": [
       "\"true\""
      ]
     },
     "execution_count": 6,
     "metadata": {},
     "output_type": "execute_result"
    }
   ],
   "source": [
    "@time using Plots\n",
    "gr(legend=false); ENV[\"PLOTS_TEST\"] = \"true\""
   ]
  },
  {
   "cell_type": "code",
   "execution_count": 7,
   "metadata": {},
   "outputs": [
    {
     "name": "stdout",
     "output_type": "stream",
     "text": [
      " 20.516346 seconds (51.93 M allocations: 2.540 GiB, 8.80% gc time)\n"
     ]
    },
    {
     "data": {
      "image/svg+xml": [
       "<?xml version=\"1.0\" encoding=\"utf-8\"?>\n",
       "<svg xmlns=\"http://www.w3.org/2000/svg\" xmlns:xlink=\"http://www.w3.org/1999/xlink\" width=\"600\" height=\"400\" viewBox=\"0 0 2400 1600\">\n",
       "<defs>\n",
       "  <clipPath id=\"clip9800\">\n",
       "    <rect x=\"0\" y=\"0\" width=\"2000\" height=\"2000\"/>\n",
       "  </clipPath>\n",
       "</defs>\n",
       "<defs>\n",
       "  <clipPath id=\"clip9801\">\n",
       "    <rect x=\"0\" y=\"0\" width=\"2400\" height=\"1600\"/>\n",
       "  </clipPath>\n",
       "</defs>\n",
       "<polygon clip-path=\"url(#clip9801)\" points=\"\n",
       "0,1600 2400,1600 2400,0 0,0 \n",
       "  \" fill=\"#ffffff\" fill-rule=\"evenodd\" fill-opacity=\"1\"/>\n",
       "<defs>\n",
       "  <clipPath id=\"clip9802\">\n",
       "    <rect x=\"480\" y=\"0\" width=\"1681\" height=\"1600\"/>\n",
       "  </clipPath>\n",
       "</defs>\n",
       "<polygon clip-path=\"url(#clip9801)\" points=\"\n",
       "189.504,1503.47 2321.26,1503.47 2321.26,47.2441 189.504,47.2441 \n",
       "  \" fill=\"#ffffff\" fill-rule=\"evenodd\" fill-opacity=\"1\"/>\n",
       "<defs>\n",
       "  <clipPath id=\"clip9803\">\n",
       "    <rect x=\"189\" y=\"47\" width=\"2133\" height=\"1457\"/>\n",
       "  </clipPath>\n",
       "</defs>\n",
       "<polyline clip-path=\"url(#clip9803)\" style=\"stroke:#000000; stroke-width:2; stroke-opacity:0.1; fill:none\" points=\"\n",
       "  447.144,1503.47 447.144,47.2441 \n",
       "  \"/>\n",
       "<polyline clip-path=\"url(#clip9803)\" style=\"stroke:#000000; stroke-width:2; stroke-opacity:0.1; fill:none\" points=\"\n",
       "  851.635,1503.47 851.635,47.2441 \n",
       "  \"/>\n",
       "<polyline clip-path=\"url(#clip9803)\" style=\"stroke:#000000; stroke-width:2; stroke-opacity:0.1; fill:none\" points=\"\n",
       "  1256.13,1503.47 1256.13,47.2441 \n",
       "  \"/>\n",
       "<polyline clip-path=\"url(#clip9803)\" style=\"stroke:#000000; stroke-width:2; stroke-opacity:0.1; fill:none\" points=\"\n",
       "  1660.62,1503.47 1660.62,47.2441 \n",
       "  \"/>\n",
       "<polyline clip-path=\"url(#clip9803)\" style=\"stroke:#000000; stroke-width:2; stroke-opacity:0.1; fill:none\" points=\"\n",
       "  2065.11,1503.47 2065.11,47.2441 \n",
       "  \"/>\n",
       "<polyline clip-path=\"url(#clip9803)\" style=\"stroke:#000000; stroke-width:2; stroke-opacity:0.1; fill:none\" points=\"\n",
       "  189.504,1462.45 2321.26,1462.45 \n",
       "  \"/>\n",
       "<polyline clip-path=\"url(#clip9803)\" style=\"stroke:#000000; stroke-width:2; stroke-opacity:0.1; fill:none\" points=\"\n",
       "  189.504,1118.92 2321.26,1118.92 \n",
       "  \"/>\n",
       "<polyline clip-path=\"url(#clip9803)\" style=\"stroke:#000000; stroke-width:2; stroke-opacity:0.1; fill:none\" points=\"\n",
       "  189.504,775.39 2321.26,775.39 \n",
       "  \"/>\n",
       "<polyline clip-path=\"url(#clip9803)\" style=\"stroke:#000000; stroke-width:2; stroke-opacity:0.1; fill:none\" points=\"\n",
       "  189.504,431.86 2321.26,431.86 \n",
       "  \"/>\n",
       "<polyline clip-path=\"url(#clip9803)\" style=\"stroke:#000000; stroke-width:2; stroke-opacity:0.1; fill:none\" points=\"\n",
       "  189.504,88.3305 2321.26,88.3305 \n",
       "  \"/>\n",
       "<polyline clip-path=\"url(#clip9801)\" style=\"stroke:#000000; stroke-width:4; stroke-opacity:1; fill:none\" points=\"\n",
       "  189.504,1503.47 2321.26,1503.47 \n",
       "  \"/>\n",
       "<polyline clip-path=\"url(#clip9801)\" style=\"stroke:#000000; stroke-width:4; stroke-opacity:1; fill:none\" points=\"\n",
       "  189.504,1503.47 189.504,47.2441 \n",
       "  \"/>\n",
       "<polyline clip-path=\"url(#clip9801)\" style=\"stroke:#000000; stroke-width:4; stroke-opacity:1; fill:none\" points=\"\n",
       "  447.144,1503.47 447.144,1481.63 \n",
       "  \"/>\n",
       "<polyline clip-path=\"url(#clip9801)\" style=\"stroke:#000000; stroke-width:4; stroke-opacity:1; fill:none\" points=\"\n",
       "  851.635,1503.47 851.635,1481.63 \n",
       "  \"/>\n",
       "<polyline clip-path=\"url(#clip9801)\" style=\"stroke:#000000; stroke-width:4; stroke-opacity:1; fill:none\" points=\"\n",
       "  1256.13,1503.47 1256.13,1481.63 \n",
       "  \"/>\n",
       "<polyline clip-path=\"url(#clip9801)\" style=\"stroke:#000000; stroke-width:4; stroke-opacity:1; fill:none\" points=\"\n",
       "  1660.62,1503.47 1660.62,1481.63 \n",
       "  \"/>\n",
       "<polyline clip-path=\"url(#clip9801)\" style=\"stroke:#000000; stroke-width:4; stroke-opacity:1; fill:none\" points=\"\n",
       "  2065.11,1503.47 2065.11,1481.63 \n",
       "  \"/>\n",
       "<polyline clip-path=\"url(#clip9801)\" style=\"stroke:#000000; stroke-width:4; stroke-opacity:1; fill:none\" points=\"\n",
       "  189.504,1462.45 221.48,1462.45 \n",
       "  \"/>\n",
       "<polyline clip-path=\"url(#clip9801)\" style=\"stroke:#000000; stroke-width:4; stroke-opacity:1; fill:none\" points=\"\n",
       "  189.504,1118.92 221.48,1118.92 \n",
       "  \"/>\n",
       "<polyline clip-path=\"url(#clip9801)\" style=\"stroke:#000000; stroke-width:4; stroke-opacity:1; fill:none\" points=\"\n",
       "  189.504,775.39 221.48,775.39 \n",
       "  \"/>\n",
       "<polyline clip-path=\"url(#clip9801)\" style=\"stroke:#000000; stroke-width:4; stroke-opacity:1; fill:none\" points=\"\n",
       "  189.504,431.86 221.48,431.86 \n",
       "  \"/>\n",
       "<polyline clip-path=\"url(#clip9801)\" style=\"stroke:#000000; stroke-width:4; stroke-opacity:1; fill:none\" points=\"\n",
       "  189.504,88.3305 221.48,88.3305 \n",
       "  \"/>\n",
       "<g clip-path=\"url(#clip9801)\">\n",
       "<text style=\"fill:#000000; fill-opacity:1; font-family:Arial,Helvetica Neue,Helvetica,sans-serif; font-size:48px; text-anchor:middle;\" transform=\"rotate(0, 447.144, 1557.47)\" x=\"447.144\" y=\"1557.47\">-4</text>\n",
       "</g>\n",
       "<g clip-path=\"url(#clip9801)\">\n",
       "<text style=\"fill:#000000; fill-opacity:1; font-family:Arial,Helvetica Neue,Helvetica,sans-serif; font-size:48px; text-anchor:middle;\" transform=\"rotate(0, 851.635, 1557.47)\" x=\"851.635\" y=\"1557.47\">-2</text>\n",
       "</g>\n",
       "<g clip-path=\"url(#clip9801)\">\n",
       "<text style=\"fill:#000000; fill-opacity:1; font-family:Arial,Helvetica Neue,Helvetica,sans-serif; font-size:48px; text-anchor:middle;\" transform=\"rotate(0, 1256.13, 1557.47)\" x=\"1256.13\" y=\"1557.47\">0</text>\n",
       "</g>\n",
       "<g clip-path=\"url(#clip9801)\">\n",
       "<text style=\"fill:#000000; fill-opacity:1; font-family:Arial,Helvetica Neue,Helvetica,sans-serif; font-size:48px; text-anchor:middle;\" transform=\"rotate(0, 1660.62, 1557.47)\" x=\"1660.62\" y=\"1557.47\">2</text>\n",
       "</g>\n",
       "<g clip-path=\"url(#clip9801)\">\n",
       "<text style=\"fill:#000000; fill-opacity:1; font-family:Arial,Helvetica Neue,Helvetica,sans-serif; font-size:48px; text-anchor:middle;\" transform=\"rotate(0, 2065.11, 1557.47)\" x=\"2065.11\" y=\"1557.47\">4</text>\n",
       "</g>\n",
       "<g clip-path=\"url(#clip9801)\">\n",
       "<text style=\"fill:#000000; fill-opacity:1; font-family:Arial,Helvetica Neue,Helvetica,sans-serif; font-size:48px; text-anchor:end;\" transform=\"rotate(0, 165.504, 1479.95)\" x=\"165.504\" y=\"1479.95\">-1.0</text>\n",
       "</g>\n",
       "<g clip-path=\"url(#clip9801)\">\n",
       "<text style=\"fill:#000000; fill-opacity:1; font-family:Arial,Helvetica Neue,Helvetica,sans-serif; font-size:48px; text-anchor:end;\" transform=\"rotate(0, 165.504, 1136.42)\" x=\"165.504\" y=\"1136.42\">-0.5</text>\n",
       "</g>\n",
       "<g clip-path=\"url(#clip9801)\">\n",
       "<text style=\"fill:#000000; fill-opacity:1; font-family:Arial,Helvetica Neue,Helvetica,sans-serif; font-size:48px; text-anchor:end;\" transform=\"rotate(0, 165.504, 792.89)\" x=\"165.504\" y=\"792.89\">0.0</text>\n",
       "</g>\n",
       "<g clip-path=\"url(#clip9801)\">\n",
       "<text style=\"fill:#000000; fill-opacity:1; font-family:Arial,Helvetica Neue,Helvetica,sans-serif; font-size:48px; text-anchor:end;\" transform=\"rotate(0, 165.504, 449.36)\" x=\"165.504\" y=\"449.36\">0.5</text>\n",
       "</g>\n",
       "<g clip-path=\"url(#clip9801)\">\n",
       "<text style=\"fill:#000000; fill-opacity:1; font-family:Arial,Helvetica Neue,Helvetica,sans-serif; font-size:48px; text-anchor:end;\" transform=\"rotate(0, 165.504, 105.831)\" x=\"165.504\" y=\"105.831\">1.0</text>\n",
       "</g>\n",
       "<polyline clip-path=\"url(#clip9803)\" style=\"stroke:#009af9; stroke-width:4; stroke-opacity:1; fill:none\" points=\"\n",
       "  249.837,111.991 254.775,107.825 259.712,104.057 264.65,100.689 287.478,90.3705 310.306,88.7707 321.721,91.2508 333.135,95.9094 344.549,102.732 355.963,111.696 \n",
       "  378.791,135.929 401.619,168.301 413.033,187.414 424.448,208.399 435.862,231.19 447.276,255.713 474.713,321.273 502.151,395.178 529.589,476.071 557.026,562.463 \n",
       "  603.423,716.586 649.819,873.79 675.019,957.533 700.218,1038.45 725.418,1115.29 750.618,1186.86 773.85,1247.21 797.081,1301.35 820.313,1348.55 843.545,1388.2 \n",
       "  868.452,1421.72 893.359,1445.45 905.813,1453.53 918.266,1459.03 930.72,1461.95 943.173,1462.26 957.602,1459.37 972.031,1452.99 986.459,1443.17 1000.89,1429.96 \n",
       "  1015.32,1413.41 1029.75,1393.61 1044.17,1370.67 1058.6,1344.71 1084.25,1291.5 1109.89,1230 1135.54,1161.2 1161.18,1086.21 1206.16,943.415 1251.14,792.342 \n",
       "  1300.17,626.939 1349.21,470.221 1373.87,397.604 1398.54,330.599 1423.2,270.201 1447.86,217.306 1461.5,191.578 1475.13,168.502 1488.77,148.184 1502.4,130.715 \n",
       "  1516.04,116.175 1529.67,104.629 1543.31,96.1315 1556.94,90.7197 1569.91,88.4582 1582.89,89.0221 1595.86,92.4091 1608.83,98.6053 1621.81,107.585 1634.78,119.312 \n",
       "  1647.75,133.737 1660.72,150.801 1674.21,171.268 1687.7,194.42 1701.19,220.156 1714.68,248.361 1741.66,311.665 1768.64,383.209 1791.35,448.89 1814.06,518.684 \n",
       "  1836.76,591.711 1859.47,667.051 1914.93,854.797 1970.38,1036.61 1996.44,1116.11 2022.5,1189.96 2048.57,1256.93 2074.63,1315.92 2095.51,1356.74 2116.38,1391.38 \n",
       "  2137.26,1419.46 2158.14,1440.68 2179.02,1454.82 2199.89,1461.72 2220.77,1461.32 2241.65,1453.62 2248.08,1449.79 2254.5,1445.27 2260.93,1440.09 \n",
       "  \"/>\n",
       "</svg>\n"
      ]
     },
     "execution_count": 7,
     "metadata": {},
     "output_type": "execute_result"
    }
   ],
   "source": [
    "@time plot(sin)"
   ]
  },
  {
   "cell_type": "code",
   "execution_count": null,
   "metadata": {},
   "outputs": [],
   "source": []
  }
 ],
 "metadata": {
  "_draft": {
   "nbviewer_url": "https://gist.github.com/5ae6933c4a55a77530f870bc84a85fbd"
  },
  "gist": {
   "data": {
    "description": "msfd28/install.ipynb",
    "public": true
   },
   "id": "5ae6933c4a55a77530f870bc84a85fbd"
  },
  "kernelspec": {
   "display_name": "Julia 1.1.0",
   "language": "julia",
   "name": "julia-1.1"
  },
  "language_info": {
   "file_extension": ".jl",
   "mimetype": "application/julia",
   "name": "julia",
   "version": "1.1.0"
  },
  "toc": {
   "nav_menu": {},
   "number_sections": true,
   "sideBar": true,
   "skip_h1_title": true,
   "title_cell": "目次",
   "title_sidebar": "目次",
   "toc_cell": true,
   "toc_position": {},
   "toc_section_display": true,
   "toc_window_display": false
  }
 },
 "nbformat": 4,
 "nbformat_minor": 2
}
